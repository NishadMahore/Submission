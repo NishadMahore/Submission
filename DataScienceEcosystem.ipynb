{
 "cells": [
  {
   "cell_type": "markdown",
   "id": "7e72090e-f20e-46e2-b02d-b204bc287854",
   "metadata": {},
   "source": [
    "# Data Science Tools and Ecosystem"
   ]
  },
  {
   "cell_type": "markdown",
   "id": "21013972-6bdd-4660-ab79-172949ce79c8",
   "metadata": {},
   "source": [
    "In this notebook, Data Science Tools and Ecosystem are summarized."
   ]
  },
  {
   "cell_type": "markdown",
   "id": "3a4c0ea8-d15f-497f-9e4b-a1a29ee8ec86",
   "metadata": {},
   "source": [
    "**Objectives:** \n",
    "- Some Popular languages for data science\n",
    "- Some Commonly used libraries for data science\n",
    "- Commonly used data science tools\n",
    "- Basic Arithematic Operations\n",
    "- Program to convert 2000 minutes to hours"
   ]
  },
  {
   "cell_type": "markdown",
   "id": "e6f8e92c-cd7c-45b4-b5a2-7042625f99f0",
   "metadata": {
    "tags": []
   },
   "source": [
    "Some of the popular languages that Data Scientists use are:\n",
    "1. Python\n",
    "2. Ruby\n",
    "3. SQL\n",
    "4. Julia\n",
    "5. Scala\n",
    "6. Java\n",
    "7. C++"
   ]
  },
  {
   "cell_type": "markdown",
   "id": "dbfc06cc-ad10-4432-adae-7e44f00df9e7",
   "metadata": {},
   "source": [
    "Some of the commonly used libraries used by Data Scientists include:\n",
    "1. dplyr\n",
    "2. ggplot\n",
    "3. GGally\n",
    "4. Numpy\n",
    "5. Pandas"
   ]
  },
  {
   "cell_type": "markdown",
   "id": "af7fceba-b14b-4d44-9a93-8eb7aa2084d9",
   "metadata": {},
   "source": [
    "| Data Science Tools |\n",
    "| ------------------ |\n",
    "| Apache Spark |\n",
    "| Tableau |\n",
    "| Tensorflow |\n",
    "| IBM Watson Studio |\n",
    "| KNIME |"
   ]
  },
  {
   "cell_type": "markdown",
   "id": "4fb7482b-10de-466b-a10b-9fca315721c5",
   "metadata": {},
   "source": [
    "### Below are a few examples of evaluating arithmetic expressions in Python :"
   ]
  },
  {
   "cell_type": "code",
   "execution_count": 2,
   "id": "270e8a84-8c0e-4ecb-8712-994d7bbf71b6",
   "metadata": {
    "tags": []
   },
   "outputs": [
    {
     "data": {
      "text/plain": [
       "17"
      ]
     },
     "execution_count": 2,
     "metadata": {},
     "output_type": "execute_result"
    }
   ],
   "source": [
    "# This a simple arithmetic expression to mutiply then add integers\n",
    "\n",
    "(3*4)+5"
   ]
  },
  {
   "cell_type": "code",
   "execution_count": 3,
   "id": "d96774cd-2aa8-4d1c-b523-df6ef17d8b70",
   "metadata": {
    "tags": []
   },
   "outputs": [
    {
     "name": "stdout",
     "output_type": "stream",
     "text": [
      "33.333333333333336\n"
     ]
    }
   ],
   "source": [
    "min = 2000\n",
    "hrs = min/60\n",
    "\n",
    "#  This will convert 200 minutes to hours by diving by 60\n",
    "\n",
    "print(hrs)"
   ]
  },
  {
   "cell_type": "code",
   "execution_count": null,
   "id": "7dd988a4-782d-4de9-bb3b-989cd2651264",
   "metadata": {},
   "outputs": [],
   "source": []
  }
 ],
 "metadata": {
  "kernelspec": {
   "display_name": "Python",
   "language": "python",
   "name": "conda-env-python-py"
  },
  "language_info": {
   "codemirror_mode": {
    "name": "ipython",
    "version": 3
   },
   "file_extension": ".py",
   "mimetype": "text/x-python",
   "name": "python",
   "nbconvert_exporter": "python",
   "pygments_lexer": "ipython3",
   "version": "3.7.12"
  }
 },
 "nbformat": 4,
 "nbformat_minor": 5
}
