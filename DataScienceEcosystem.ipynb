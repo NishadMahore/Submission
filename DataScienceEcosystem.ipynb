{
 "cells": [
  {
   "cell_type": "markdown",
   "id": "7e72090e-f20e-46e2-b02d-b204bc287854",
   "metadata": {
    "tags": []
   },
   "source": [
    "# Data Science Tools and Ecosystem"
   ]
  },
  {
   "cell_type": "markdown",
   "id": "0f492e9e-8aad-4a7f-ac26-01e80dfaa91e",
   "metadata": {},
   "source": [
    "In this notebook, Data Science Tools and Ecosystem are summarized. "
   ]
  },
  {
   "cell_type": "markdown",
   "id": "ea826555-8a3d-47f6-983c-f1d706ce726f",
   "metadata": {},
   "source": [
    "**Objectives:**\n",
    "\n",
    "- Some Popular languages for data science\n",
    "- Some Commonly used libraries for data science\n",
    "- Commonly used data science tools\n",
    "- Basic Arithematic Operations\n",
    "- Program to convert 2000 minutes to hours. "
   ]
  },
  {
   "cell_type": "markdown",
   "id": "691e0488-fb3c-4d82-9f0a-454bca600538",
   "metadata": {},
   "source": [
    "Some of the popular languages that Data Scientists use are:\n",
    "\n",
    "1. Python\n",
    "2. Ruby\n",
    "3. SQL\n",
    "4. Julia\n",
    "5. Scala\n",
    "6. Java\n",
    "7. C++"
   ]
  },
  {
   "cell_type": "markdown",
   "id": "e6fd7e36-8af6-49ea-858d-b2c9423cb0bc",
   "metadata": {},
   "source": [
    "Some of the commonly used libraries used by Data Scientists include:\n",
    "\n",
    "1. dplyr\n",
    "2. ggplot\n",
    "3. GGally\n",
    "4. Numpy\n",
    "5. Pandas"
   ]
  },
  {
   "cell_type": "markdown",
   "id": "0ed8759e-cfaa-447d-8c7d-518b8402a8ac",
   "metadata": {},
   "source": [
    "| Data Science Tools |\n",
    "| ------------------ |\n",
    "| Apache Spark |\n",
    "| Tableau |\n",
    "| Tensorflow |\n",
    "| IBM Watson Studio |\n",
    "| KNIME |"
   ]
  },
  {
   "cell_type": "markdown",
   "id": "4faf2409-143e-420c-ad84-c5c6e6ba3c36",
   "metadata": {},
   "source": [
    "### Below are a few examples of evaluating arithmetic expressions in Python"
   ]
  },
  {
   "cell_type": "code",
   "execution_count": 6,
   "id": "dd9183b5-c752-402e-aa1d-3c8b4f93a7f3",
   "metadata": {
    "tags": []
   },
   "outputs": [
    {
     "data": {
      "text/plain": [
       "17"
      ]
     },
     "execution_count": 6,
     "metadata": {},
     "output_type": "execute_result"
    }
   ],
   "source": [
    "# This a simple arithmetic expression to mutiply then add integers\n",
    "\n",
    "(3*4)+5"
   ]
  },
  {
   "cell_type": "code",
   "execution_count": 7,
   "id": "c64955f3-c85b-447c-9954-1760b55df093",
   "metadata": {
    "tags": []
   },
   "outputs": [
    {
     "name": "stdout",
     "output_type": "stream",
     "text": [
      "33.333333333333336\n"
     ]
    }
   ],
   "source": [
    "min = 2000\n",
    "hrs = min/60\n",
    "\n",
    "#  This will convert 200 minutes to hours by diving by 60\n",
    "\n",
    "print(hrs)"
   ]
  },
  {
   "cell_type": "markdown",
   "id": "f8856a46-b456-427c-aab1-6fb36ec739ef",
   "metadata": {},
   "source": [
    "## Author \n",
    "Nishad Mahore"
   ]
  },
  {
   "cell_type": "code",
   "execution_count": null,
   "id": "559fd71d-5e00-44bf-9776-ee157cd70f59",
   "metadata": {},
   "outputs": [],
   "source": []
  }
 ],
 "metadata": {
  "kernelspec": {
   "display_name": "Python",
   "language": "python",
   "name": "conda-env-python-py"
  },
  "language_info": {
   "codemirror_mode": {
    "name": "ipython",
    "version": 3
   },
   "file_extension": ".py",
   "mimetype": "text/x-python",
   "name": "python",
   "nbconvert_exporter": "python",
   "pygments_lexer": "ipython3",
   "version": "3.7.12"
  }
 },
 "nbformat": 4,
 "nbformat_minor": 5
}
